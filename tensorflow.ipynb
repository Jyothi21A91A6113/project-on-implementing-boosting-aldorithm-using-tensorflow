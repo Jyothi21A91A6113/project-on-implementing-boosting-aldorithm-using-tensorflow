{
  "nbformat": 4,
  "nbformat_minor": 0,
  "metadata": {
    "colab": {
      "provenance": []
    },
    "kernelspec": {
      "name": "python3",
      "display_name": "Python 3"
    },
    "language_info": {
      "name": "python"
    }
  },
  "cells": [
    {
      "cell_type": "code",
      "execution_count": 1,
      "metadata": {
        "colab": {
          "base_uri": "https://localhost:8080/"
        },
        "id": "CDSnvJ7AhG8x",
        "outputId": "896e5572-9cd9-4b46-a4ec-4daa0313ea13"
      },
      "outputs": [
        {
          "output_type": "stream",
          "name": "stdout",
          "text": [
            "7/7 [==============================] - 0s 3ms/step - loss: 0.3783 - accuracy: 0.8350\n",
            "acc: [0.3782541751861572, 0.8349999785423279]\n"
          ]
        }
      ],
      "source": [
        "import tensorflow as tf\n",
        "from tensorflow.keras.models import Sequential\n",
        "from tensorflow.keras.layers import Dense\n",
        "from sklearn.datasets import make_classification\n",
        "from sklearn.metrics import accuracy_score\n",
        "from sklearn.model_selection import train_test_split\n",
        "x,y=make_classification(n_samples=1000,n_features=20,random_state=42)\n",
        "x_train,x_test,y_train,y_test=train_test_split(x,y,test_size=0.2,random_state=42)\n",
        "model=Sequential([Dense(64,activation='relu',input_shape=(20,)),\n",
        "                  Dense(32,activation='relu'),\n",
        "                  Dense(1,activation='sigmoid')])\n",
        "model.compile(optimizer='adam',loss='binary_crossentropy',metrics=['accuracy'])\n",
        "model.fit(x_train,y_train,epochs=5,batch_size=32,verbose=0)\n",
        "acc=model.evaluate(x_test,y_test)\n",
        "print(\"acc:\",acc)"
      ]
    }
  ]
}